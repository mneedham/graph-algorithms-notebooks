{
 "cells": [
  {
   "cell_type": "markdown",
   "metadata": {},
   "source": [
    "# Label Propagation\n",
    "_Label Propagation_ (LPA) is a fast algorithm for finding communities in a graph.\n",
    "It detects these communities using network structure alone as its guide and doesn't require a pre-defined objective function or prior information about the communities.\n",
    "\n",
    "One interesting feature of LPA is that we can give nodes preliminary labels to narrow down the range of solutions generated.\n",
    "This means that it can be used as semi-supervised way of finding communities where we hand-pick some initial communities.\n",
    "\n",
    "First we'll import the Neo4j driver and Pandas libraries:\n"
   ]
  },
  {
   "cell_type": "code",
   "execution_count": 1,
   "metadata": {},
   "outputs": [],
   "source": [
    "from neo4j import GraphDatabase\n",
    "import pandas as pd\n",
    "import os"
   ]
  },
  {
   "cell_type": "markdown",
   "metadata": {},
   "source": [
    "Next let's create an instance of the Neo4j driver which we'll use to execute our queries.\n"
   ]
  },
  {
   "cell_type": "code",
   "execution_count": 2,
   "metadata": {},
   "outputs": [],
   "source": [
    "host = os.environ.get(\"NEO4J_HOST\", \"bolt://localhost\") \n",
    "user = os.environ.get(\"NEO4J_USER\", \"neo4j\")\n",
    "password = os.environ.get(\"NEO4J_PASSWORD\", \"neo\")\n",
    "driver = GraphDatabase.driver(host, auth=(user, password))"
   ]
  },
  {
   "cell_type": "markdown",
   "metadata": {},
   "source": [
    "Now let's create a sample graph that we'll run the algorithm against.\n"
   ]
  },
  {
   "cell_type": "code",
   "execution_count": 3,
   "metadata": {},
   "outputs": [
    {
     "name": "stdout",
     "output_type": "stream",
     "text": [
      "Stats: {'labels-added': 6, 'relationships-created': 10, 'nodes-created': 6, 'properties-set': 12}\n"
     ]
    }
   ],
   "source": [
    "create_graph_query = '''\n",
    "MERGE (nAlice:User {id:'Alice'}) SET nAlice.predefined_label=52\n",
    "MERGE (nBridget:User {id:'Bridget'}) SET nBridget.predefined_label=21\n",
    "MERGE (nCharles:User {id:'Charles'}) SET nCharles.predefined_label=43\n",
    "MERGE (nDoug:User {id:'Doug'}) SET nDoug.predefined_label=21\n",
    "MERGE (nMark:User {id:'Mark'}) SET nMark.predefined_label=19\n",
    "MERGE (nMichael:User {id:'Michael'}) SET nMichael.predefined_label=52\n",
    "\n",
    "MERGE (nAlice)-[:FOLLOW]->(nBridget)\n",
    "MERGE (nAlice)-[:FOLLOW]->(nCharles)\n",
    "MERGE (nMark)-[:FOLLOW]->(nDoug)\n",
    "MERGE (nBridget)-[:FOLLOW]->(nMichael)\n",
    "MERGE (nDoug)-[:FOLLOW]->(nMark)\n",
    "MERGE (nMichael)-[:FOLLOW]->(nAlice)\n",
    "MERGE (nAlice)-[:FOLLOW]->(nMichael)\n",
    "MERGE (nBridget)-[:FOLLOW]->(nAlice)\n",
    "MERGE (nMichael)-[:FOLLOW]->(nBridget)\n",
    "MERGE (nCharles)-[:FOLLOW]->(nDoug);\n",
    "'''\n",
    "\n",
    "with driver.session() as session:\n",
    "    result = session.write_transaction(lambda tx: tx.run(create_graph_query))\n",
    "    print(\"Stats: \" + str(result.consume().metadata.get(\"stats\", {})))"
   ]
  },
  {
   "cell_type": "markdown",
   "metadata": {},
   "source": [
    "Finally we can run the algorithm by executing the following query:\n"
   ]
  },
  {
   "cell_type": "code",
   "execution_count": 4,
   "metadata": {},
   "outputs": [
    {
     "data": {
      "text/html": [
       "<div>\n",
       "<style scoped>\n",
       "    .dataframe tbody tr th:only-of-type {\n",
       "        vertical-align: middle;\n",
       "    }\n",
       "\n",
       "    .dataframe tbody tr th {\n",
       "        vertical-align: top;\n",
       "    }\n",
       "\n",
       "    .dataframe thead th {\n",
       "        text-align: right;\n",
       "    }\n",
       "</style>\n",
       "<table border=\"1\" class=\"dataframe\">\n",
       "  <thead>\n",
       "    <tr style=\"text-align: right;\">\n",
       "      <th></th>\n",
       "      <th>user</th>\n",
       "      <th>communityId</th>\n",
       "    </tr>\n",
       "  </thead>\n",
       "  <tbody>\n",
       "    <tr>\n",
       "      <th>0</th>\n",
       "      <td>Alice</td>\n",
       "      <td>7</td>\n",
       "    </tr>\n",
       "    <tr>\n",
       "      <th>1</th>\n",
       "      <td>Bridget</td>\n",
       "      <td>7</td>\n",
       "    </tr>\n",
       "    <tr>\n",
       "      <th>2</th>\n",
       "      <td>Charles</td>\n",
       "      <td>10</td>\n",
       "    </tr>\n",
       "    <tr>\n",
       "      <th>3</th>\n",
       "      <td>Doug</td>\n",
       "      <td>10</td>\n",
       "    </tr>\n",
       "    <tr>\n",
       "      <th>4</th>\n",
       "      <td>Mark</td>\n",
       "      <td>10</td>\n",
       "    </tr>\n",
       "    <tr>\n",
       "      <th>5</th>\n",
       "      <td>Michael</td>\n",
       "      <td>7</td>\n",
       "    </tr>\n",
       "  </tbody>\n",
       "</table>\n",
       "</div>"
      ],
      "text/plain": [
       "      user  communityId\n",
       "0    Alice            7\n",
       "1  Bridget            7\n",
       "2  Charles           10\n",
       "3     Doug           10\n",
       "4     Mark           10\n",
       "5  Michael            7"
      ]
     },
     "execution_count": 4,
     "metadata": {},
     "output_type": "execute_result"
    }
   ],
   "source": [
    "streaming_query = \"\"\"\n",
    "CALL gds.labelPropagation.stream({\n",
    "  nodeProjection:\"User\", \n",
    "  relationshipProjection:\"FOLLOW\",\n",
    "  maxIterations: 10}) \n",
    "YIELD nodeId, communityId\n",
    "RETURN gds.util.asNode(nodeId).id as user, communityId\n",
    "\"\"\"\n",
    "\n",
    "with driver.session() as session:\n",
    "    result = session.run(streaming_query)     \n",
    "    df = pd.DataFrame([dict(r) for r in result])\n",
    "\n",
    "df"
   ]
  },
  {
   "cell_type": "markdown",
   "metadata": {},
   "source": [
    "Our algorithm found two communities with 3 members each.\n",
    "Visually it seems clear that Michael, Bridget, and Alice belong together, as do Doug and Mark.\n",
    "Only Charles doesn't strongly fit into either side but ends up with Doug and Mark."
   ]
  },
  {
   "cell_type": "markdown",
   "metadata": {},
   "source": [
    "We can also call a version of the algorithm that will store the result as a property on a\n",
    "node. This is useful if we want to run future queries that use the result."
   ]
  },
  {
   "cell_type": "code",
   "execution_count": 5,
   "metadata": {},
   "outputs": [],
   "source": [
    "write_query = \"\"\"\n",
    "CALL gds.labelPropagation.write({\n",
    "  nodeProjection:'User', \n",
    "  relationshipProjection:'FOLLOW',\n",
    "  maxIterations:10,\n",
    "  writeProperty:'partition'})\n",
    "YIELD createMillis, computeMillis, writeMillis;\n",
    "\"\"\"\n",
    "\n",
    "with driver.session() as session:\n",
    "    session.write_transaction(lambda tx: tx.run(write_query))"
   ]
  },
  {
   "cell_type": "markdown",
   "metadata": {},
   "source": [
    "## Graph Visualisation\n",
    "\n",
    "Sometimes a picture can tell more than a table of results and this is often the case with graph algorithms. \n",
    "Let's see how to create a graph visualization using neovis.js.\n",
    "\n",
    "First we'll create a div into which we will generate the visualisation."
   ]
  },
  {
   "cell_type": "code",
   "execution_count": 57,
   "metadata": {},
   "outputs": [
    {
     "data": {
      "text/html": [
       "<style type=\"text/css\">                \n",
       ".output_wrapper, .output {\n",
       "    height:auto !important;\n",
       "    max-height:600px;\n",
       "}\n",
       ".output_scroll {\n",
       "    box-shadow:none !important;\n",
       "    webkit-box-shadow:none !important;\n",
       "}\n",
       "\n",
       "#viz {\n",
       "    width: 300px;\n",
       "    height: 350px;\n",
       "    font: 22pt arial;\n",
       "}\n",
       "</style>  \n",
       "<div id=\"viz\"></div>"
      ],
      "text/plain": [
       "<IPython.core.display.HTML object>"
      ]
     },
     "metadata": {},
     "output_type": "display_data"
    }
   ],
   "source": [
    "%%html\n",
    "<style type=\"text/css\">                \n",
    ".output_wrapper, .output {\n",
    "    height:auto !important;\n",
    "    max-height:600px;\n",
    "}\n",
    ".output_scroll {\n",
    "    box-shadow:none !important;\n",
    "    webkit-box-shadow:none !important;\n",
    "}\n",
    "\n",
    "#viz {\n",
    "    width: 300px;\n",
    "    height: 350px;\n",
    "    font: 22pt arial;\n",
    "}\n",
    "</style>  \n",
    "<div id=\"viz\"></div>"
   ]
  },
  {
   "cell_type": "markdown",
   "metadata": {},
   "source": [
    "Next we need to define the query that the visualization will be generated from, along with config \n",
    "that describes which properties will be used for node size, node colour, and relationship width. \n",
    "\n",
    "We'll then define a JavaScript variable that contains all our parameters."
   ]
  },
  {
   "cell_type": "code",
   "execution_count": 58,
   "metadata": {},
   "outputs": [
    {
     "data": {
      "application/javascript": [
       "window.jsonGraph={\"query\": \"MATCH (p1:User)-[r:FOLLOW]->(p2:User) RETURN *\", \"labels\": {\"User\": {\"caption\": \"id\", \"community\": \"partition\"}}, \"relationships\": {\"FOLLOW\": {\"thickness\": \"weight\", \"caption\": false}}, \"host\": \"bolt://localhost\", \"user\": \"neo4j\", \"password\": \"neo\"};"
      ],
      "text/plain": [
       "<IPython.core.display.Javascript object>"
      ]
     },
     "execution_count": 58,
     "metadata": {},
     "output_type": "execute_result"
    }
   ],
   "source": [
    "from IPython.core.display import Javascript\n",
    "import json\n",
    "from scripts.algo import viz_config, render_image\n",
    "\n",
    "config = viz_config(\"Label Propagation\")\n",
    "query = config[\"query\"]\n",
    "labels_json = config[\"labels_json\"]\n",
    "relationships_json = config[\"relationships_json\"]\n",
    "\n",
    "json_graph = {\n",
    "    \"query\": query,\n",
    "    \"labels\": labels_json,\n",
    "    \"relationships\": relationships_json,\n",
    "    \"host\": host,\n",
    "    \"user\": user,\n",
    "    \"password\": password\n",
    "}\n",
    "\n",
    "Javascript(\"\"\"window.jsonGraph={};\"\"\".format(json.dumps(json_graph)))"
   ]
  },
  {
   "cell_type": "markdown",
   "metadata": {},
   "source": [
    "Now we're ready to call neovis.js and generate our graph visualisation. \n",
    "The following code will create an interactive graph into the div defined above.\n",
    "It will also extract an image representation of the graph and display that in the cell below."
   ]
  },
  {
   "cell_type": "code",
   "execution_count": 59,
   "metadata": {},
   "outputs": [
    {
     "data": {
      "application/javascript": [
       "var output_area = this;\n",
       "requirejs(['neovis.js'], function(NeoVis){    \n",
       "    var config = {\n",
       "      container_id: \"viz\",\n",
       "      server_url: window.jsonGraph.host,\n",
       "      server_user: window.jsonGraph.user,\n",
       "      server_password: window.jsonGraph.password,\n",
       "      labels: window.jsonGraph.labels,\n",
       "      relationships: window.jsonGraph.relationships,\n",
       "      initial_cypher: window.jsonGraph.query\n",
       "    };\n",
       "        \n",
       "    let viz = new NeoVis.default(config);\n",
       "    viz.render();\n",
       "    \n",
       "    viz.onVisualizationRendered(function(ctx) {\n",
       "      let imageSrc = ctx.canvas.toDataURL();\n",
       "      let kernel = IPython.notebook.kernel;\n",
       "      let command = \"image_src = '\" + imageSrc + \"'\";\n",
       "      kernel.execute(command);\n",
       "      \n",
       "      var cell_element = output_area.element.parents('.cell');\n",
       "      var cell_idx = Jupyter.notebook.get_cell_elements().index(cell_element);\n",
       "      var cell = Jupyter.notebook.get_cell(cell_idx+1);\n",
       "      cell.set_text(\"render_image(image_src)\")\n",
       "      cell.execute();\n",
       "    });\n",
       "});"
      ],
      "text/plain": [
       "<IPython.core.display.Javascript object>"
      ]
     },
     "metadata": {},
     "output_type": "display_data"
    }
   ],
   "source": [
    "%%javascript\n",
    "var output_area = this;\n",
    "requirejs(['neovis.js'], function(NeoVis){    \n",
    "    var config = {\n",
    "      container_id: \"viz\",\n",
    "      server_url: window.jsonGraph.host,\n",
    "      server_user: window.jsonGraph.user,\n",
    "      server_password: window.jsonGraph.password,\n",
    "      labels: window.jsonGraph.labels,\n",
    "      relationships: window.jsonGraph.relationships,\n",
    "      initial_cypher: window.jsonGraph.query\n",
    "    };\n",
    "        \n",
    "    let viz = new NeoVis.default(config);\n",
    "    viz.render();\n",
    "    \n",
    "    viz.onVisualizationRendered(function(ctx) {\n",
    "      let imageSrc = ctx.canvas.toDataURL();\n",
    "      let kernel = IPython.notebook.kernel;\n",
    "      let command = \"image_src = '\" + imageSrc + \"'\";\n",
    "      kernel.execute(command);\n",
    "      \n",
    "      var cell_element = output_area.element.parents('.cell');\n",
    "      var cell_idx = Jupyter.notebook.get_cell_elements().index(cell_element);\n",
    "      var cell = Jupyter.notebook.get_cell(cell_idx+1);\n",
    "      cell.set_text(\"render_image(image_src)\")\n",
    "      cell.execute();\n",
    "    });\n",
    "});"
   ]
  },
  {
   "cell_type": "code",
   "execution_count": 62,
   "metadata": {},
   "outputs": [
    {
     "data": {
      "text/html": [
       "<img id=\"viz-image\" width=\"300px\" src=\"data:image/png;base64,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\" />"
      ],
      "text/plain": [
       "<IPython.core.display.HTML object>"
      ]
     },
     "execution_count": 62,
     "metadata": {},
     "output_type": "execute_result"
    }
   ],
   "source": [
    "render_image(image_src)"
   ]
  }
 ],
 "metadata": {
  "kernelspec": {
   "display_name": "scispacy",
   "language": "python",
   "name": "scispacy"
  },
  "language_info": {
   "codemirror_mode": {
    "name": "ipython",
    "version": 3
   },
   "file_extension": ".py",
   "mimetype": "text/x-python",
   "name": "python",
   "nbconvert_exporter": "python",
   "pygments_lexer": "ipython3",
   "version": "3.6.10"
  }
 },
 "nbformat": 4,
 "nbformat_minor": 2
}
