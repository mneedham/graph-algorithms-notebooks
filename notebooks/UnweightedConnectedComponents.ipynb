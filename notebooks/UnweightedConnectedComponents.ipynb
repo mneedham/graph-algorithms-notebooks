{
 "cells": [
  {
   "cell_type": "markdown",
   "metadata": {},
   "source": [
    "# Unweighted Connected Components\n",
    "The _Connected Components_ or _UnionFind_ algorithm finds sets of connected nodes in an undirected graph where each node is reachable from any other node in the same set.\n",
    "It differs from the SCC algorithm because it only needs a path to exist between pairs of nodes in one direction, whereas SCC needs a path to exist in both directions.\n",
    "As with SCC, UnionFind is often used early in an analysis to understand a graph's structure.\n",
    "\n",
    "First we'll import the Neo4j driver and Pandas libraries:\n"
   ]
  },
  {
   "cell_type": "code",
   "execution_count": 1,
   "metadata": {},
   "outputs": [],
   "source": [
    "from neo4j import GraphDatabase\n",
    "import pandas as pd\n",
    "import os"
   ]
  },
  {
   "cell_type": "markdown",
   "metadata": {},
   "source": [
    "Next let's create an instance of the Neo4j driver which we'll use to execute our queries.\n"
   ]
  },
  {
   "cell_type": "code",
   "execution_count": 2,
   "metadata": {},
   "outputs": [],
   "source": [
    "host = os.environ.get(\"NEO4J_HOST\", \"bolt://localhost\") \n",
    "user = os.environ.get(\"NEO4J_USER\", \"neo4j\")\n",
    "password = os.environ.get(\"NEO4J_PASSWORD\", \"neo\")\n",
    "driver = GraphDatabase.driver(host, auth=(user, password))"
   ]
  },
  {
   "cell_type": "markdown",
   "metadata": {},
   "source": [
    "Now let's create a sample graph that we'll run the algorithm against.\n"
   ]
  },
  {
   "cell_type": "code",
   "execution_count": 3,
   "metadata": {},
   "outputs": [
    {
     "name": "stdout",
     "output_type": "stream",
     "text": [
      "Stats: {'labels-added': 6, 'relationships-created': 4, 'nodes-created': 6, 'properties-set': 10}\n"
     ]
    }
   ],
   "source": [
    "create_graph_query = '''\n",
    "MERGE (nAlice:User {id:'Alice'})\n",
    "MERGE (nBridget:User {id:'Bridget'})\n",
    "MERGE (nCharles:User {id:'Charles'})\n",
    "MERGE (nDoug:User {id:'Doug'})\n",
    "MERGE (nMark:User {id:'Mark'})\n",
    "MERGE (nMichael:User {id:'Michael'})\n",
    "\n",
    "MERGE (nAlice)-[:FRIEND {weight:0.5}]->(nBridget)\n",
    "MERGE (nAlice)-[:FRIEND {weight:4}]->(nCharles)\n",
    "MERGE (nMark)-[:FRIEND {weight:1}]->(nDoug)\n",
    "MERGE (nMark)-[:FRIEND {weight:2}]->(nMichael);\n",
    "'''\n",
    "\n",
    "with driver.session() as session:\n",
    "    result = session.write_transaction(lambda tx: tx.run(create_graph_query))\n",
    "    print(\"Stats: \" + str(result.consume().metadata.get(\"stats\", {})))"
   ]
  },
  {
   "cell_type": "markdown",
   "metadata": {},
   "source": [
    "Finally we can run the algorithm by executing the following query:\n"
   ]
  },
  {
   "cell_type": "code",
   "execution_count": 4,
   "metadata": {},
   "outputs": [
    {
     "data": {
      "text/html": [
       "<div>\n",
       "<style scoped>\n",
       "    .dataframe tbody tr th:only-of-type {\n",
       "        vertical-align: middle;\n",
       "    }\n",
       "\n",
       "    .dataframe tbody tr th {\n",
       "        vertical-align: top;\n",
       "    }\n",
       "\n",
       "    .dataframe thead th {\n",
       "        text-align: right;\n",
       "    }\n",
       "</style>\n",
       "<table border=\"1\" class=\"dataframe\">\n",
       "  <thead>\n",
       "    <tr style=\"text-align: right;\">\n",
       "      <th></th>\n",
       "      <th>user</th>\n",
       "      <th>componentId</th>\n",
       "    </tr>\n",
       "  </thead>\n",
       "  <tbody>\n",
       "    <tr>\n",
       "      <th>0</th>\n",
       "      <td>Charles</td>\n",
       "      <td>0</td>\n",
       "    </tr>\n",
       "    <tr>\n",
       "      <th>1</th>\n",
       "      <td>Doug</td>\n",
       "      <td>1</td>\n",
       "    </tr>\n",
       "    <tr>\n",
       "      <th>2</th>\n",
       "      <td>Mark</td>\n",
       "      <td>1</td>\n",
       "    </tr>\n",
       "    <tr>\n",
       "      <th>3</th>\n",
       "      <td>Michael</td>\n",
       "      <td>1</td>\n",
       "    </tr>\n",
       "    <tr>\n",
       "      <th>4</th>\n",
       "      <td>Alice</td>\n",
       "      <td>0</td>\n",
       "    </tr>\n",
       "    <tr>\n",
       "      <th>5</th>\n",
       "      <td>Bridget</td>\n",
       "      <td>0</td>\n",
       "    </tr>\n",
       "  </tbody>\n",
       "</table>\n",
       "</div>"
      ],
      "text/plain": [
       "      user  componentId\n",
       "0  Charles            0\n",
       "1     Doug            1\n",
       "2     Mark            1\n",
       "3  Michael            1\n",
       "4    Alice            0\n",
       "5  Bridget            0"
      ]
     },
     "execution_count": 4,
     "metadata": {},
     "output_type": "execute_result"
    }
   ],
   "source": [
    "streaming_query = \"\"\"\n",
    "CALL gds.wcc.stream({\n",
    "  nodeProjection:'User',\n",
    "  relationshipProjection:'FRIEND'}) \n",
    "YIELD nodeId,componentId\n",
    "\n",
    "RETURN gds.util.asNode(nodeId).id AS user, componentId\n",
    "\"\"\"\n",
    "\n",
    "with driver.session() as session:\n",
    "    result = session.run(streaming_query)\n",
    "    df = pd.DataFrame([dict(r) for r in result])\n",
    "\n",
    "df"
   ]
  },
  {
   "cell_type": "markdown",
   "metadata": {},
   "source": [
    "We have two distinct group of users that have no link between them.\n",
    "The first group contains Alice, Charles, and Bridget, while the second group contains Michael, Doug, and Mark."
   ]
  },
  {
   "cell_type": "markdown",
   "metadata": {},
   "source": [
    "We can also call a version of the algorithm that will store the result as a property on a\n",
    "node. This is useful if we want to run future queries that use the result."
   ]
  },
  {
   "cell_type": "code",
   "execution_count": 5,
   "metadata": {},
   "outputs": [],
   "source": [
    "write_query = \"\"\"\n",
    "CALL gds.wcc.write({\n",
    "  nodeProjection:'User',\n",
    "  relationshipProjection:'FRIEND',\n",
    "  writeProperty:\"partition\"}) \n",
    "YIELD componentCount, createMillis, computeMillis, writeMillis;\n",
    "\"\"\"\n",
    "\n",
    "with driver.session() as session:\n",
    "    session.write_transaction(lambda tx: tx.run(write_query))"
   ]
  },
  {
   "cell_type": "markdown",
   "metadata": {},
   "source": [
    "## Graph Visualisation\n",
    "\n",
    "Sometimes a picture can tell more than a table of results and this is often the case with graph algorithms. \n",
    "Let's see how to create a graph visualization using neovis.js.\n",
    "\n",
    "First we'll create a div into which we will generate the visualisation."
   ]
  },
  {
   "cell_type": "code",
   "execution_count": 25,
   "metadata": {},
   "outputs": [
    {
     "data": {
      "text/html": [
       "<style type=\"text/css\">                \n",
       ".output_wrapper, .output {\n",
       "    height:auto !important;\n",
       "    max-height:600px;\n",
       "}\n",
       ".output_scroll {\n",
       "    box-shadow:none !important;\n",
       "    webkit-box-shadow:none !important;\n",
       "}\n",
       "\n",
       "#viz {\n",
       "    width: 300px;\n",
       "    height: 350px;\n",
       "    font: 22pt arial;\n",
       "}\n",
       "</style>  \n",
       "<div id=\"viz\"></div>"
      ],
      "text/plain": [
       "<IPython.core.display.HTML object>"
      ]
     },
     "metadata": {},
     "output_type": "display_data"
    }
   ],
   "source": [
    "%%html\n",
    "<style type=\"text/css\">                \n",
    ".output_wrapper, .output {\n",
    "    height:auto !important;\n",
    "    max-height:600px;\n",
    "}\n",
    ".output_scroll {\n",
    "    box-shadow:none !important;\n",
    "    webkit-box-shadow:none !important;\n",
    "}\n",
    "\n",
    "#viz {\n",
    "    width: 300px;\n",
    "    height: 350px;\n",
    "    font: 22pt arial;\n",
    "}\n",
    "</style>  \n",
    "<div id=\"viz\"></div>"
   ]
  },
  {
   "cell_type": "markdown",
   "metadata": {},
   "source": [
    "Next we need to define the query that the visualization will be generated from, along with config \n",
    "that describes which properties will be used for node size, node colour, and relationship width. \n",
    "\n",
    "We'll then define a JavaScript variable that contains all our parameters."
   ]
  },
  {
   "cell_type": "code",
   "execution_count": 26,
   "metadata": {},
   "outputs": [
    {
     "data": {
      "application/javascript": [
       "window.jsonGraph={\"query\": \"MATCH (p1:User)-[r:FRIEND]->(p2:User) RETURN *\", \"labels\": {\"User\": {\"caption\": \"id\", \"community\": \"partition\"}}, \"relationships\": {\"FRIEND\": {\"thickness\": \"weight\", \"caption\": false}}, \"host\": \"bolt://localhost\", \"user\": \"neo4j\", \"password\": \"neo\"};"
      ],
      "text/plain": [
       "<IPython.core.display.Javascript object>"
      ]
     },
     "execution_count": 26,
     "metadata": {},
     "output_type": "execute_result"
    }
   ],
   "source": [
    "from IPython.core.display import Javascript\n",
    "import json\n",
    "from scripts.algo import viz_config, render_image\n",
    "\n",
    "config = viz_config(\"Unweighted Connected Components\")\n",
    "query = config[\"query\"]\n",
    "labels_json = config[\"labels_json\"]\n",
    "relationships_json = config[\"relationships_json\"]\n",
    "\n",
    "json_graph = {\n",
    "    \"query\": query,\n",
    "    \"labels\": labels_json,\n",
    "    \"relationships\": relationships_json,\n",
    "    \"host\": host,\n",
    "    \"user\": user,\n",
    "    \"password\": password\n",
    "}\n",
    "\n",
    "Javascript(\"\"\"window.jsonGraph={};\"\"\".format(json.dumps(json_graph)))"
   ]
  },
  {
   "cell_type": "markdown",
   "metadata": {},
   "source": [
    "Now we're ready to call neovis.js and generate our graph visualisation. \n",
    "The following code will create an interactive graph into the div defined above.\n",
    "It will also extract an image representation of the graph and display that in the cell below."
   ]
  },
  {
   "cell_type": "code",
   "execution_count": 27,
   "metadata": {},
   "outputs": [
    {
     "data": {
      "application/javascript": [
       "var output_area = this;\n",
       "requirejs(['neovis.js'], function(NeoVis){    \n",
       "    var config = {\n",
       "      container_id: \"viz\",\n",
       "      server_url: window.jsonGraph.host,\n",
       "      server_user: window.jsonGraph.user,\n",
       "      server_password: window.jsonGraph.password,\n",
       "      labels: window.jsonGraph.labels,\n",
       "      relationships: window.jsonGraph.relationships,\n",
       "      initial_cypher: window.jsonGraph.query\n",
       "    };\n",
       "        \n",
       "    let viz = new NeoVis.default(config);\n",
       "    viz.render();\n",
       "    \n",
       "    viz.onVisualizationRendered(function(ctx) {\n",
       "      let imageSrc = ctx.canvas.toDataURL();\n",
       "      let kernel = IPython.notebook.kernel;\n",
       "      let command = \"image_src = '\" + imageSrc + \"'\";\n",
       "      kernel.execute(command);\n",
       "      \n",
       "      var cell_element = output_area.element.parents('.cell');\n",
       "      var cell_idx = Jupyter.notebook.get_cell_elements().index(cell_element);\n",
       "      var cell = Jupyter.notebook.get_cell(cell_idx+1);\n",
       "      cell.set_text(\"render_image(image_src)\")\n",
       "      cell.execute();\n",
       "    });\n",
       "});"
      ],
      "text/plain": [
       "<IPython.core.display.Javascript object>"
      ]
     },
     "metadata": {},
     "output_type": "display_data"
    }
   ],
   "source": [
    "%%javascript\n",
    "var output_area = this;\n",
    "requirejs(['neovis.js'], function(NeoVis){    \n",
    "    var config = {\n",
    "      container_id: \"viz\",\n",
    "      server_url: window.jsonGraph.host,\n",
    "      server_user: window.jsonGraph.user,\n",
    "      server_password: window.jsonGraph.password,\n",
    "      labels: window.jsonGraph.labels,\n",
    "      relationships: window.jsonGraph.relationships,\n",
    "      initial_cypher: window.jsonGraph.query\n",
    "    };\n",
    "        \n",
    "    let viz = new NeoVis.default(config);\n",
    "    viz.render();\n",
    "    \n",
    "    viz.onVisualizationRendered(function(ctx) {\n",
    "      let imageSrc = ctx.canvas.toDataURL();\n",
    "      let kernel = IPython.notebook.kernel;\n",
    "      let command = \"image_src = '\" + imageSrc + \"'\";\n",
    "      kernel.execute(command);\n",
    "      \n",
    "      var cell_element = output_area.element.parents('.cell');\n",
    "      var cell_idx = Jupyter.notebook.get_cell_elements().index(cell_element);\n",
    "      var cell = Jupyter.notebook.get_cell(cell_idx+1);\n",
    "      cell.set_text(\"render_image(image_src)\")\n",
    "      cell.execute();\n",
    "    });\n",
    "});"
   ]
  },
  {
   "cell_type": "code",
   "execution_count": 29,
   "metadata": {},
   "outputs": [
    {
     "data": {
      "text/html": [
       "<img id=\"viz-image\" width=\"300px\" src=\"data:image/png;base64,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\" />"
      ],
      "text/plain": [
       "<IPython.core.display.HTML object>"
      ]
     },
     "execution_count": 29,
     "metadata": {},
     "output_type": "execute_result"
    }
   ],
   "source": [
    "render_image(image_src)"
   ]
  }
 ],
 "metadata": {
  "kernelspec": {
   "display_name": "scispacy",
   "language": "python",
   "name": "scispacy"
  },
  "language_info": {
   "codemirror_mode": {
    "name": "ipython",
    "version": 3
   },
   "file_extension": ".py",
   "mimetype": "text/x-python",
   "name": "python",
   "nbconvert_exporter": "python",
   "pygments_lexer": "ipython3",
   "version": "3.6.10"
  }
 },
 "nbformat": 4,
 "nbformat_minor": 2
}
