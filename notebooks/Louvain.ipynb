{
 "cells": [
  {
   "cell_type": "markdown",
   "metadata": {},
   "source": [
    "# Louvain\n",
    "The _Louvain_ method of community detection is an algorithm for detecting communities in networks.\n",
    "It maximizes a modularity score for each community, where the modularity quantifies the quality of an assignment of nodes to communities by evaluating how much more densely connected the nodes within a community are compared to how connected they would be in a random network.\n",
    "\n",
    "The _Louvain_ algorithm is one of the fastest modularity based algorithms and works well with large graphs.\n",
    "It also reveals a hierarchy of communities at different scales, which can be useful for understanding the global functioning of a network.\n",
    "\n",
    "First we'll import the Neo4j driver and Pandas libraries:\n"
   ]
  },
  {
   "cell_type": "code",
   "execution_count": 1,
   "metadata": {},
   "outputs": [],
   "source": [
    "from neo4j import GraphDatabase\n",
    "import pandas as pd\n",
    "import os"
   ]
  },
  {
   "cell_type": "markdown",
   "metadata": {},
   "source": [
    "Next let's create an instance of the Neo4j driver which we'll use to execute our queries.\n"
   ]
  },
  {
   "cell_type": "code",
   "execution_count": 2,
   "metadata": {},
   "outputs": [],
   "source": [
    "host = os.environ.get(\"NEO4J_HOST\", \"bolt://localhost\") \n",
    "user = os.environ.get(\"NEO4J_USER\", \"neo4j\")\n",
    "password = os.environ.get(\"NEO4J_PASSWORD\", \"neo\")\n",
    "driver = GraphDatabase.driver(host, auth=(user, password))"
   ]
  },
  {
   "cell_type": "markdown",
   "metadata": {},
   "source": [
    "Now let's create a sample graph that we'll run the algorithm against.\n"
   ]
  },
  {
   "cell_type": "code",
   "execution_count": 3,
   "metadata": {},
   "outputs": [
    {
     "name": "stdout",
     "output_type": "stream",
     "text": [
      "Stats: {'labels-added': 6, 'relationships-created': 7, 'nodes-created': 6, 'properties-set': 6}\n"
     ]
    }
   ],
   "source": [
    "create_graph_query = '''\n",
    "MERGE (nAlice:User {id:'Alice'})\n",
    "MERGE (nBridget:User {id:'Bridget'})\n",
    "MERGE (nCharles:User {id:'Charles'})\n",
    "MERGE (nDoug:User {id:'Doug'})\n",
    "MERGE (nMark:User {id:'Mark'})\n",
    "MERGE (nMichael:User {id:'Michael'})\n",
    "\n",
    "MERGE (nAlice)-[:FRIEND]->(nBridget)\n",
    "MERGE (nAlice)-[:FRIEND]->(nCharles)\n",
    "MERGE (nMark)-[:FRIEND]->(nDoug)\n",
    "MERGE (nBridget)-[:FRIEND]->(nMichael)\n",
    "MERGE (nCharles)-[:FRIEND]->(nMark)\n",
    "MERGE (nAlice)-[:FRIEND]->(nMichael)\n",
    "MERGE (nCharles)-[:FRIEND]->(nDoug);\n",
    "'''\n",
    "\n",
    "with driver.session() as session:\n",
    "    result = session.write_transaction(lambda tx: tx.run(create_graph_query))\n",
    "    print(\"Stats: \" + str(result.consume().metadata.get(\"stats\", {})))"
   ]
  },
  {
   "cell_type": "markdown",
   "metadata": {},
   "source": [
    "Finally we can run the algorithm by executing the following query:\n"
   ]
  },
  {
   "cell_type": "code",
   "execution_count": 4,
   "metadata": {},
   "outputs": [
    {
     "data": {
      "text/html": [
       "<div>\n",
       "<style scoped>\n",
       "    .dataframe tbody tr th:only-of-type {\n",
       "        vertical-align: middle;\n",
       "    }\n",
       "\n",
       "    .dataframe tbody tr th {\n",
       "        vertical-align: top;\n",
       "    }\n",
       "\n",
       "    .dataframe thead th {\n",
       "        text-align: right;\n",
       "    }\n",
       "</style>\n",
       "<table border=\"1\" class=\"dataframe\">\n",
       "  <thead>\n",
       "    <tr style=\"text-align: right;\">\n",
       "      <th></th>\n",
       "      <th>user</th>\n",
       "      <th>communityId</th>\n",
       "    </tr>\n",
       "  </thead>\n",
       "  <tbody>\n",
       "    <tr>\n",
       "      <th>0</th>\n",
       "      <td>Charles</td>\n",
       "      <td>3</td>\n",
       "    </tr>\n",
       "    <tr>\n",
       "      <th>1</th>\n",
       "      <td>Doug</td>\n",
       "      <td>3</td>\n",
       "    </tr>\n",
       "    <tr>\n",
       "      <th>2</th>\n",
       "      <td>Mark</td>\n",
       "      <td>3</td>\n",
       "    </tr>\n",
       "    <tr>\n",
       "      <th>3</th>\n",
       "      <td>Alice</td>\n",
       "      <td>5</td>\n",
       "    </tr>\n",
       "    <tr>\n",
       "      <th>4</th>\n",
       "      <td>Bridget</td>\n",
       "      <td>5</td>\n",
       "    </tr>\n",
       "    <tr>\n",
       "      <th>5</th>\n",
       "      <td>Michael</td>\n",
       "      <td>5</td>\n",
       "    </tr>\n",
       "  </tbody>\n",
       "</table>\n",
       "</div>"
      ],
      "text/plain": [
       "      user  communityId\n",
       "0  Charles            3\n",
       "1     Doug            3\n",
       "2     Mark            3\n",
       "3    Alice            5\n",
       "4  Bridget            5\n",
       "5  Michael            5"
      ]
     },
     "execution_count": 4,
     "metadata": {},
     "output_type": "execute_result"
    }
   ],
   "source": [
    "streaming_query = \"\"\"\n",
    "CALL gds.louvain.stream({\n",
    "  nodeProjection:'User', \n",
    "  relationshipProjection:'FRIEND'})\n",
    "YIELD nodeId, communityId\n",
    "RETURN gds.util.asNode(nodeId).id AS user, communityId\n",
    "ORDER BY communityId;\n",
    "\"\"\"\n",
    "\n",
    "with driver.session() as session:\n",
    "    result = session.run(streaming_query)      \n",
    "    df = pd.DataFrame([dict(r) for r in result])\n",
    "\n",
    "df"
   ]
  },
  {
   "cell_type": "markdown",
   "metadata": {},
   "source": [
    "Our algorithm found two communities with 3 members each.\n",
    "Mark, Doug, and Charles are all friends with each other, as are Bridget, Alice, and Michael.\n",
    "Charles is the only one who has friends in both communities but he has more in community 4 so he fits better in that one."
   ]
  },
  {
   "cell_type": "markdown",
   "metadata": {},
   "source": [
    "We can also call a version of the algorithm that will store the result as a property on a\n",
    "node. This is useful if we want to run future queries that use the result."
   ]
  },
  {
   "cell_type": "code",
   "execution_count": 5,
   "metadata": {},
   "outputs": [],
   "source": [
    "write_query = \"\"\"\n",
    "CALL gds.louvain.write({\n",
    "  nodeProjection:'User', \n",
    "  relationshipProjection:'FRIEND',\n",
    "  writeProperty:'community'})\n",
    "YIELD communityCount, createMillis, computeMillis, writeMillis;\n",
    "\"\"\"\n",
    "\n",
    "with driver.session() as session:\n",
    "    session.write_transaction(lambda tx: tx.run(write_query))"
   ]
  },
  {
   "cell_type": "markdown",
   "metadata": {},
   "source": [
    "## Graph Visualisation\n",
    "\n",
    "Sometimes a picture can tell more than a table of results and this is often the case with graph algorithms. \n",
    "Let's see how to create a graph visualization using neovis.js.\n",
    "\n",
    "First we'll create a div into which we will generate the visualisation."
   ]
  },
  {
   "cell_type": "code",
   "execution_count": 15,
   "metadata": {},
   "outputs": [
    {
     "data": {
      "text/html": [
       "<style type=\"text/css\">                \n",
       ".output_wrapper, .output {\n",
       "    height:auto !important;\n",
       "    max-height:600px;\n",
       "}\n",
       ".output_scroll {\n",
       "    box-shadow:none !important;\n",
       "    webkit-box-shadow:none !important;\n",
       "}\n",
       "\n",
       "#viz {\n",
       "    width: 300px;\n",
       "    height: 350px;\n",
       "    font: 22pt arial;\n",
       "}\n",
       "</style>  \n",
       "<div id=\"viz\"></div>"
      ],
      "text/plain": [
       "<IPython.core.display.HTML object>"
      ]
     },
     "metadata": {},
     "output_type": "display_data"
    }
   ],
   "source": [
    "%%html\n",
    "<style type=\"text/css\">                \n",
    ".output_wrapper, .output {\n",
    "    height:auto !important;\n",
    "    max-height:600px;\n",
    "}\n",
    ".output_scroll {\n",
    "    box-shadow:none !important;\n",
    "    webkit-box-shadow:none !important;\n",
    "}\n",
    "\n",
    "#viz {\n",
    "    width: 300px;\n",
    "    height: 350px;\n",
    "    font: 22pt arial;\n",
    "}\n",
    "</style>  \n",
    "<div id=\"viz\"></div>"
   ]
  },
  {
   "cell_type": "markdown",
   "metadata": {},
   "source": [
    "Next we need to define the query that the visualization will be generated from, along with config \n",
    "that describes which properties will be used for node size, node colour, and relationship width. \n",
    "\n",
    "We'll then define a JavaScript variable that contains all our parameters."
   ]
  },
  {
   "cell_type": "code",
   "execution_count": 16,
   "metadata": {},
   "outputs": [
    {
     "data": {
      "application/javascript": [
       "window.jsonGraph={\"query\": \"MATCH (p1:User)-[r:FRIEND]->(p2:User) RETURN *\", \"labels\": {\"User\": {\"caption\": \"id\", \"size\": \"centrality\", \"community\": \"community\"}}, \"relationships\": {\"FRIEND\": {\"thickness\": \"weight\", \"caption\": false}}, \"host\": \"bolt://localhost\", \"user\": \"neo4j\", \"password\": \"neo\"};"
      ],
      "text/plain": [
       "<IPython.core.display.Javascript object>"
      ]
     },
     "execution_count": 16,
     "metadata": {},
     "output_type": "execute_result"
    }
   ],
   "source": [
    "from IPython.core.display import Javascript\n",
    "import json\n",
    "from scripts.algo import viz_config, render_image\n",
    "\n",
    "config = viz_config(\"Louvain\")\n",
    "query = config[\"query\"]\n",
    "labels_json = config[\"labels_json\"]\n",
    "relationships_json = config[\"relationships_json\"]\n",
    "\n",
    "json_graph = {\n",
    "    \"query\": query,\n",
    "    \"labels\": labels_json,\n",
    "    \"relationships\": relationships_json,\n",
    "    \"host\": host,\n",
    "    \"user\": user,\n",
    "    \"password\": password\n",
    "}\n",
    "\n",
    "Javascript(\"\"\"window.jsonGraph={};\"\"\".format(json.dumps(json_graph)))"
   ]
  },
  {
   "cell_type": "markdown",
   "metadata": {},
   "source": [
    "Now we're ready to call neovis.js and generate our graph visualisation. \n",
    "The following code will create an interactive graph into the div defined above.\n",
    "It will also extract an image representation of the graph and display that in the cell below."
   ]
  },
  {
   "cell_type": "code",
   "execution_count": 22,
   "metadata": {},
   "outputs": [
    {
     "data": {
      "application/javascript": [
       "var output_area = this;\n",
       "requirejs(['neovis.js'], function(NeoVis){    \n",
       "    var config = {\n",
       "      container_id: \"viz\",\n",
       "      server_url: window.jsonGraph.host,\n",
       "      server_user: window.jsonGraph.user,\n",
       "      server_password: window.jsonGraph.password,\n",
       "      labels: window.jsonGraph.labels,\n",
       "      relationships: window.jsonGraph.relationships,\n",
       "      initial_cypher: window.jsonGraph.query\n",
       "    };\n",
       "        \n",
       "    let viz = new NeoVis.default(config);\n",
       "    viz.render();\n",
       "    \n",
       "    viz.onVisualizationRendered(function(ctx) {\n",
       "      let imageSrc = ctx.canvas.toDataURL();\n",
       "      let kernel = IPython.notebook.kernel;\n",
       "      let command = \"image_src = '\" + imageSrc + \"'\";\n",
       "      kernel.execute(command);\n",
       "      \n",
       "      var cell_element = output_area.element.parents('.cell');\n",
       "      var cell_idx = Jupyter.notebook.get_cell_elements().index(cell_element);\n",
       "      var cell = Jupyter.notebook.get_cell(cell_idx+1);\n",
       "      cell.set_text(\"render_image(image_src)\")\n",
       "      cell.execute();\n",
       "    });\n",
       "});"
      ],
      "text/plain": [
       "<IPython.core.display.Javascript object>"
      ]
     },
     "metadata": {},
     "output_type": "display_data"
    }
   ],
   "source": [
    "%%javascript\n",
    "var output_area = this;\n",
    "requirejs(['neovis.js'], function(NeoVis){    \n",
    "    var config = {\n",
    "      container_id: \"viz\",\n",
    "      server_url: window.jsonGraph.host,\n",
    "      server_user: window.jsonGraph.user,\n",
    "      server_password: window.jsonGraph.password,\n",
    "      labels: window.jsonGraph.labels,\n",
    "      relationships: window.jsonGraph.relationships,\n",
    "      initial_cypher: window.jsonGraph.query\n",
    "    };\n",
    "        \n",
    "    let viz = new NeoVis.default(config);\n",
    "    viz.render();\n",
    "    \n",
    "    viz.onVisualizationRendered(function(ctx) {\n",
    "      let imageSrc = ctx.canvas.toDataURL();\n",
    "      let kernel = IPython.notebook.kernel;\n",
    "      let command = \"image_src = '\" + imageSrc + \"'\";\n",
    "      kernel.execute(command);\n",
    "      \n",
    "      var cell_element = output_area.element.parents('.cell');\n",
    "      var cell_idx = Jupyter.notebook.get_cell_elements().index(cell_element);\n",
    "      var cell = Jupyter.notebook.get_cell(cell_idx+1);\n",
    "      cell.set_text(\"render_image(image_src)\")\n",
    "      cell.execute();\n",
    "    });\n",
    "});"
   ]
  },
  {
   "cell_type": "code",
   "execution_count": 23,
   "metadata": {},
   "outputs": [
    {
     "data": {
      "text/html": [
       "<img id=\"viz-image\" width=\"300px\" src=\"data:image/png;base64,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\" />"
      ],
      "text/plain": [
       "<IPython.core.display.HTML object>"
      ]
     },
     "execution_count": 23,
     "metadata": {},
     "output_type": "execute_result"
    }
   ],
   "source": [
    "render_image(image_src)"
   ]
  }
 ],
 "metadata": {
  "kernelspec": {
   "display_name": "scispacy",
   "language": "python",
   "name": "scispacy"
  },
  "language_info": {
   "codemirror_mode": {
    "name": "ipython",
    "version": 3
   },
   "file_extension": ".py",
   "mimetype": "text/x-python",
   "name": "python",
   "nbconvert_exporter": "python",
   "pygments_lexer": "ipython3",
   "version": "3.6.10"
  }
 },
 "nbformat": 4,
 "nbformat_minor": 2
}
