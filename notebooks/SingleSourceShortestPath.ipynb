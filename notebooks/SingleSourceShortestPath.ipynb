{
 "cells": [
  {
   "cell_type": "markdown",
   "metadata": {},
   "source": [
    "# Single Source Shortest Path\n",
    "The _Single Source Shortest Path_ (SSSP) algorithm calculates the shortest (weighted) path between a pair of nodes.\n",
    "Dijkstra's algorithm is the most well known one in this category.\n",
    "SSSP is a real time graph algorithm - it can be used as part of the normal user flow in a web or mobile application.\n",
    "\n",
    "First we'll import the Neo4j driver and Pandas libraries:\n"
   ]
  },
  {
   "cell_type": "code",
   "execution_count": 1,
   "metadata": {},
   "outputs": [],
   "source": [
    "from neo4j import GraphDatabase\n",
    "import pandas as pd\n",
    "import os"
   ]
  },
  {
   "cell_type": "markdown",
   "metadata": {},
   "source": [
    "Next let's create an instance of the Neo4j driver which we'll use to execute our queries.\n"
   ]
  },
  {
   "cell_type": "code",
   "execution_count": 2,
   "metadata": {},
   "outputs": [],
   "source": [
    "host = os.environ.get(\"NEO4J_HOST\", \"bolt://localhost\") \n",
    "user = os.environ.get(\"NEO4J_USER\", \"neo4j\")\n",
    "password = os.environ.get(\"NEO4J_PASSWORD\", \"neo\")\n",
    "driver = GraphDatabase.driver(host, auth=(user, password))"
   ]
  },
  {
   "cell_type": "markdown",
   "metadata": {},
   "source": [
    "Now let's create a sample graph that we'll run the algorithm against.\n"
   ]
  },
  {
   "cell_type": "code",
   "execution_count": 3,
   "metadata": {},
   "outputs": [
    {
     "name": "stdout",
     "output_type": "stream",
     "text": [
      "Stats: {'labels-added': 6, 'relationships-created': 11, 'nodes-created': 6, 'properties-set': 17}\n"
     ]
    }
   ],
   "source": [
    "create_graph_query = '''\n",
    "CREATE (a:Loc{name:'A'}), (b:Loc{name:'B'}), (c:Loc{name:'C'}), \n",
    "       (d:Loc{name:'D'}), (e:Loc{name:'E'}), (f:Loc{name:'F'}),\n",
    "       (a)-[:ROAD {cost:50}]->(b),\n",
    "       (a)-[:ROAD {cost:50}]->(c),\n",
    "       (a)-[:ROAD {cost:100}]->(d),\n",
    "       (a)-[:RAIL {cost:50}]->(d),\n",
    "       (b)-[:ROAD {cost:40}]->(d),\n",
    "       (c)-[:ROAD {cost:40}]->(d),\n",
    "       (c)-[:ROAD {cost:80}]->(e),\n",
    "       (d)-[:ROAD {cost:30}]->(e),\n",
    "       (d)-[:ROAD {cost:80}]->(f),\n",
    "       (e)-[:ROAD {cost:40}]->(f),\n",
    "       (e)-[:RAIL {cost:20}]->(f);\n",
    "'''\n",
    "\n",
    "with driver.session() as session:\n",
    "    result = session.write_transaction(lambda tx: tx.run(create_graph_query))\n",
    "    print(\"Stats: \" + str(result.consume().metadata.get(\"stats\", {})))"
   ]
  },
  {
   "cell_type": "markdown",
   "metadata": {},
   "source": [
    "Finally we can run the algorithm by executing the following query:\n"
   ]
  },
  {
   "cell_type": "code",
   "execution_count": 4,
   "metadata": {},
   "outputs": [
    {
     "data": {
      "text/html": [
       "<div>\n",
       "<style scoped>\n",
       "    .dataframe tbody tr th:only-of-type {\n",
       "        vertical-align: middle;\n",
       "    }\n",
       "\n",
       "    .dataframe tbody tr th {\n",
       "        vertical-align: top;\n",
       "    }\n",
       "\n",
       "    .dataframe thead th {\n",
       "        text-align: right;\n",
       "    }\n",
       "</style>\n",
       "<table border=\"1\" class=\"dataframe\">\n",
       "  <thead>\n",
       "    <tr style=\"text-align: right;\">\n",
       "      <th></th>\n",
       "      <th>name</th>\n",
       "      <th>cost</th>\n",
       "    </tr>\n",
       "  </thead>\n",
       "  <tbody>\n",
       "    <tr>\n",
       "      <th>0</th>\n",
       "      <td>A</td>\n",
       "      <td>0.0</td>\n",
       "    </tr>\n",
       "    <tr>\n",
       "      <th>1</th>\n",
       "      <td>D</td>\n",
       "      <td>50.0</td>\n",
       "    </tr>\n",
       "    <tr>\n",
       "      <th>2</th>\n",
       "      <td>E</td>\n",
       "      <td>80.0</td>\n",
       "    </tr>\n",
       "    <tr>\n",
       "      <th>3</th>\n",
       "      <td>F</td>\n",
       "      <td>100.0</td>\n",
       "    </tr>\n",
       "  </tbody>\n",
       "</table>\n",
       "</div>"
      ],
      "text/plain": [
       "  name   cost\n",
       "0    A    0.0\n",
       "1    D   50.0\n",
       "2    E   80.0\n",
       "3    F  100.0"
      ]
     },
     "execution_count": 4,
     "metadata": {},
     "output_type": "execute_result"
    }
   ],
   "source": [
    "streaming_query = \"\"\"\n",
    "MATCH (start:Loc {name: 'A'}), (end:Loc {name: 'F'})\n",
    "CALL gds.alpha.shortestPath.stream({\n",
    "  nodeProjection: 'Loc',\n",
    "  relationshipProjection: {\n",
    "    ROAD: {\n",
    "      type: '*',\n",
    "      properties: 'cost',\n",
    "      orientation: 'UNDIRECTED'\n",
    "    }\n",
    "  },\n",
    "  startNode: start,\n",
    "  endNode: end,\n",
    "  relationshipWeightProperty: 'cost'\n",
    "})\n",
    "YIELD nodeId, cost\n",
    "RETURN gds.util.asNode(nodeId).name AS name, cost\n",
    "\"\"\"\n",
    "\n",
    "with driver.session() as session:\n",
    "    result = session.run(streaming_query)\n",
    "    df = pd.DataFrame([dict(r) for r in result])\n",
    "\n",
    "df"
   ]
  },
  {
   "cell_type": "markdown",
   "metadata": {},
   "source": [
    "The quickest route takes us from \"A\" to \"F\" via \"D\" and \"E\" at a total cost of 100.\n",
    "We first go by rail from \"A\" to \"D\" at a cost of 50, from \"D\" to \"E\" by road for an additional 30, and finally from \"E\" to \"F\" by rail for an additional 20."
   ]
  }
 ],
 "metadata": {
  "kernelspec": {
   "display_name": "scispacy",
   "language": "python",
   "name": "scispacy"
  },
  "language_info": {
   "codemirror_mode": {
    "name": "ipython",
    "version": 3
   },
   "file_extension": ".py",
   "mimetype": "text/x-python",
   "name": "python",
   "nbconvert_exporter": "python",
   "pygments_lexer": "ipython3",
   "version": "3.6.10"
  }
 },
 "nbformat": 4,
 "nbformat_minor": 2
}
