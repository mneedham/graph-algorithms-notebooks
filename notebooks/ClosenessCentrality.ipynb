{
 "cells": [
  {
   "cell_type": "markdown",
   "metadata": {},
   "source": [
    "# Closeness Centrality\n",
    "_Closeness Centrality_ is a way of detecting nodes that are able to spread information very efficiently through a graph.\n",
    "\n",
    "The _Closeness Centrality_ of a node measures its average distance to all other nodes.\n",
    "Nodes with a high closeness score have the shortest distances to all other nodes.\n",
    "\n",
    "First we'll import the Neo4j driver and Pandas libraries:\n"
   ]
  },
  {
   "cell_type": "code",
   "execution_count": 1,
   "metadata": {},
   "outputs": [],
   "source": [
    "from neo4j import GraphDatabase\n",
    "import pandas as pd\n",
    "import os"
   ]
  },
  {
   "cell_type": "markdown",
   "metadata": {},
   "source": [
    "Next let's create an instance of the Neo4j driver which we'll use to execute our queries.\n"
   ]
  },
  {
   "cell_type": "code",
   "execution_count": 2,
   "metadata": {},
   "outputs": [],
   "source": [
    "host = os.environ.get(\"NEO4J_HOST\", \"bolt://localhost\") \n",
    "user = os.environ.get(\"NEO4J_USER\", \"neo4j\")\n",
    "password = os.environ.get(\"NEO4J_PASSWORD\", \"neo\")\n",
    "driver = GraphDatabase.driver(host, auth=(user, password))"
   ]
  },
  {
   "cell_type": "markdown",
   "metadata": {},
   "source": [
    "Now let's create a sample graph that we'll run the algorithm against.\n"
   ]
  },
  {
   "cell_type": "code",
   "execution_count": 3,
   "metadata": {},
   "outputs": [
    {
     "name": "stdout",
     "output_type": "stream",
     "text": [
      "Stats: {'labels-added': 5, 'relationships-created': 8, 'nodes-created': 5, 'properties-set': 5}\n"
     ]
    }
   ],
   "source": [
    "create_graph_query = '''\n",
    "MERGE (a:Node{id:\"A\"})\n",
    "MERGE (b:Node{id:\"B\"})\n",
    "MERGE (c:Node{id:\"C\"})\n",
    "MERGE (d:Node{id:\"D\"})\n",
    "MERGE (e:Node{id:\"E\"})\n",
    "\n",
    "MERGE (a)-[:LINK]->(b)\n",
    "MERGE (b)-[:LINK]->(a)\n",
    "MERGE (b)-[:LINK]->(c)\n",
    "MERGE (c)-[:LINK]->(b)\n",
    "MERGE (c)-[:LINK]->(d)\n",
    "MERGE (d)-[:LINK]->(c)\n",
    "MERGE (d)-[:LINK]->(e)\n",
    "MERGE (e)-[:LINK]->(d);\n",
    "'''\n",
    "\n",
    "with driver.session() as session:\n",
    "    result = session.write_transaction(lambda tx: tx.run(create_graph_query))\n",
    "    print(\"Stats: \" + str(result.consume().metadata.get(\"stats\", {})))"
   ]
  },
  {
   "cell_type": "markdown",
   "metadata": {},
   "source": [
    "Finally we can run the algorithm by executing the following query:\n"
   ]
  },
  {
   "cell_type": "code",
   "execution_count": 4,
   "metadata": {},
   "outputs": [
    {
     "data": {
      "text/html": [
       "<div>\n",
       "<style scoped>\n",
       "    .dataframe tbody tr th:only-of-type {\n",
       "        vertical-align: middle;\n",
       "    }\n",
       "\n",
       "    .dataframe tbody tr th {\n",
       "        vertical-align: top;\n",
       "    }\n",
       "\n",
       "    .dataframe thead th {\n",
       "        text-align: right;\n",
       "    }\n",
       "</style>\n",
       "<table border=\"1\" class=\"dataframe\">\n",
       "  <thead>\n",
       "    <tr style=\"text-align: right;\">\n",
       "      <th></th>\n",
       "      <th>node</th>\n",
       "      <th>centrality</th>\n",
       "    </tr>\n",
       "  </thead>\n",
       "  <tbody>\n",
       "    <tr>\n",
       "      <th>0</th>\n",
       "      <td>C</td>\n",
       "      <td>0.666667</td>\n",
       "    </tr>\n",
       "    <tr>\n",
       "      <th>1</th>\n",
       "      <td>B</td>\n",
       "      <td>0.571429</td>\n",
       "    </tr>\n",
       "    <tr>\n",
       "      <th>2</th>\n",
       "      <td>D</td>\n",
       "      <td>0.571429</td>\n",
       "    </tr>\n",
       "    <tr>\n",
       "      <th>3</th>\n",
       "      <td>E</td>\n",
       "      <td>0.400000</td>\n",
       "    </tr>\n",
       "    <tr>\n",
       "      <th>4</th>\n",
       "      <td>A</td>\n",
       "      <td>0.400000</td>\n",
       "    </tr>\n",
       "  </tbody>\n",
       "</table>\n",
       "</div>"
      ],
      "text/plain": [
       "  node  centrality\n",
       "0    C    0.666667\n",
       "1    B    0.571429\n",
       "2    D    0.571429\n",
       "3    E    0.400000\n",
       "4    A    0.400000"
      ]
     },
     "execution_count": 4,
     "metadata": {},
     "output_type": "execute_result"
    }
   ],
   "source": [
    "streaming_query = \"\"\"\n",
    "CALL gds.alpha.closeness.stream({\n",
    "    nodeProjection:'Node', \n",
    "    relationshipProjection:'LINK'})\n",
    "YIELD nodeId, centrality\n",
    "\n",
    "MATCH (n:Node) WHERE id(n) = nodeId\n",
    "\n",
    "RETURN n.id AS node, centrality\n",
    "ORDER BY centrality DESC\n",
    "limit 20;\n",
    "\"\"\"\n",
    "\n",
    "with driver.session() as session:\n",
    "    result = session.run(streaming_query)      \n",
    "    df = pd.DataFrame([dict(r) for r in result])\n",
    "\n",
    "df"
   ]
  },
  {
   "cell_type": "markdown",
   "metadata": {},
   "source": [
    "\"C\" is the best connected node in this graph although \"B\" and \"D\" aren't far behind.\n",
    "\"A\" and \"E\" don't have close ties to many other nodes so their scores are lower.\n",
    "A score of 1 would indicate that a node has a direct connection to all other nodes."
   ]
  },
  {
   "cell_type": "markdown",
   "metadata": {},
   "source": [
    "We can also call a version of the algorithm that will store the result as a property on a\n",
    "node. This is useful if we want to run future queries that use the result."
   ]
  },
  {
   "cell_type": "code",
   "execution_count": 5,
   "metadata": {},
   "outputs": [],
   "source": [
    "write_query = \"\"\"\n",
    "CALL gds.alpha.closeness.write({\n",
    "    nodeProjection:'Node', \n",
    "    relationshipProjection:'LINK', \n",
    "    writeProperty:'centrality'}) \n",
    "YIELD nodes,createMillis, computeMillis, writeMillis;\n",
    "\"\"\"\n",
    "\n",
    "with driver.session() as session:\n",
    "    session.write_transaction(lambda tx: tx.run(write_query))"
   ]
  },
  {
   "cell_type": "markdown",
   "metadata": {},
   "source": [
    "## Graph Visualisation\n",
    "\n",
    "Sometimes a picture can tell more than a table of results and this is often the case with graph algorithms. \n",
    "Let's see how to create a graph visualization using neovis.js.\n",
    "\n",
    "First we'll create a div into which we will generate the visualisation."
   ]
  },
  {
   "cell_type": "code",
   "execution_count": 7,
   "metadata": {},
   "outputs": [
    {
     "data": {
      "text/html": [
       "<style type=\"text/css\">                \n",
       ".output_wrapper, .output {\n",
       "    height:auto !important;\n",
       "    max-height:600px;\n",
       "}\n",
       ".output_scroll {\n",
       "    box-shadow:none !important;\n",
       "    webkit-box-shadow:none !important;\n",
       "}\n",
       "\n",
       "#viz {\n",
       "    width: 300px;\n",
       "    height: 350px;\n",
       "    font: 22pt arial;\n",
       "}\n",
       "</style>  \n",
       "<div id=\"viz\"></div>"
      ],
      "text/plain": [
       "<IPython.core.display.HTML object>"
      ]
     },
     "metadata": {},
     "output_type": "display_data"
    }
   ],
   "source": [
    "%%html\n",
    "<style type=\"text/css\">                \n",
    ".output_wrapper, .output {\n",
    "    height:auto !important;\n",
    "    max-height:600px;\n",
    "}\n",
    ".output_scroll {\n",
    "    box-shadow:none !important;\n",
    "    webkit-box-shadow:none !important;\n",
    "}\n",
    "\n",
    "#viz {\n",
    "    width: 300px;\n",
    "    height: 350px;\n",
    "    font: 22pt arial;\n",
    "}\n",
    "</style>  \n",
    "<div id=\"viz\"></div>"
   ]
  },
  {
   "cell_type": "markdown",
   "metadata": {},
   "source": [
    "Next we need to define the query that the visualization will be generated from, along with config \n",
    "that describes which properties will be used for node size, node colour, and relationship width. \n",
    "\n",
    "We'll then define a JavaScript variable that contains all our parameters."
   ]
  },
  {
   "cell_type": "code",
   "execution_count": 8,
   "metadata": {},
   "outputs": [
    {
     "data": {
      "application/javascript": [
       "window.jsonGraph={\"query\": \"MATCH (p1:Node)-[r:LINK]->(p2:Node) RETURN *\", \"labels\": {\"Node\": {\"caption\": \"id\", \"size\": \"centrality\"}}, \"relationships\": {\"LINK\": {\"thickness\": \"weight\", \"caption\": false}}, \"host\": \"bolt://localhost\", \"user\": \"neo4j\", \"password\": \"neo\"};"
      ],
      "text/plain": [
       "<IPython.core.display.Javascript object>"
      ]
     },
     "execution_count": 8,
     "metadata": {},
     "output_type": "execute_result"
    }
   ],
   "source": [
    "from IPython.core.display import Javascript\n",
    "import json\n",
    "from scripts.algo import viz_config, render_image\n",
    "\n",
    "config = viz_config(\"Closeness Centrality\")\n",
    "query = config[\"query\"]\n",
    "labels_json = config[\"labels_json\"]\n",
    "relationships_json = config[\"relationships_json\"]\n",
    "\n",
    "json_graph = {\n",
    "    \"query\": query,\n",
    "    \"labels\": labels_json,\n",
    "    \"relationships\": relationships_json,\n",
    "    \"host\": host,\n",
    "    \"user\": user,\n",
    "    \"password\": password\n",
    "}\n",
    "\n",
    "Javascript(\"\"\"window.jsonGraph={};\"\"\".format(json.dumps(json_graph)))"
   ]
  },
  {
   "cell_type": "markdown",
   "metadata": {},
   "source": [
    "Now we're ready to call neovis.js and generate our graph visualisation. \n",
    "The following code will create an interactive graph into the div defined above.\n",
    "It will also extract an image representation of the graph and display that in the cell below."
   ]
  },
  {
   "cell_type": "code",
   "execution_count": 8,
   "metadata": {},
   "outputs": [
    {
     "data": {
      "application/javascript": [
       "var output_area = this;\n",
       "requirejs(['neovis.js'], function(NeoVis){    \n",
       "    var config = {\n",
       "      container_id: \"viz\",\n",
       "      server_url: window.jsonGraph.host,\n",
       "      server_user: window.jsonGraph.user,\n",
       "      server_password: window.jsonGraph.password,\n",
       "      labels: window.jsonGraph.labels,\n",
       "      relationships: window.jsonGraph.relationships,\n",
       "      initial_cypher: window.jsonGraph.query\n",
       "    };\n",
       "        \n",
       "    let viz = new NeoVis.default(config);\n",
       "    viz.render();\n",
       "    \n",
       "    viz.onVisualizationRendered(function(ctx) {\n",
       "      let imageSrc = ctx.canvas.toDataURL();\n",
       "      let kernel = IPython.notebook.kernel;\n",
       "      let command = \"image_src = '\" + imageSrc + \"'\";\n",
       "      kernel.execute(command);\n",
       "      \n",
       "      var cell_element = output_area.element.parents('.cell');\n",
       "      var cell_idx = Jupyter.notebook.get_cell_elements().index(cell_element);\n",
       "      var cell = Jupyter.notebook.get_cell(cell_idx+1);\n",
       "      cell.set_text(\"render_image(image_src)\")\n",
       "      cell.execute();\n",
       "    });\n",
       "});"
      ],
      "text/plain": [
       "<IPython.core.display.Javascript object>"
      ]
     },
     "metadata": {},
     "output_type": "display_data"
    }
   ],
   "source": [
    "%%javascript\n",
    "var output_area = this;\n",
    "requirejs(['neovis.js'], function(NeoVis){    \n",
    "    var config = {\n",
    "      container_id: \"viz\",\n",
    "      server_url: window.jsonGraph.host,\n",
    "      server_user: window.jsonGraph.user,\n",
    "      server_password: window.jsonGraph.password,\n",
    "      labels: window.jsonGraph.labels,\n",
    "      relationships: window.jsonGraph.relationships,\n",
    "      initial_cypher: window.jsonGraph.query\n",
    "    };\n",
    "        \n",
    "    let viz = new NeoVis.default(config);\n",
    "    viz.render();\n",
    "    \n",
    "    viz.onVisualizationRendered(function(ctx) {\n",
    "      let imageSrc = ctx.canvas.toDataURL();\n",
    "      let kernel = IPython.notebook.kernel;\n",
    "      let command = \"image_src = '\" + imageSrc + \"'\";\n",
    "      kernel.execute(command);\n",
    "      \n",
    "      var cell_element = output_area.element.parents('.cell');\n",
    "      var cell_idx = Jupyter.notebook.get_cell_elements().index(cell_element);\n",
    "      var cell = Jupyter.notebook.get_cell(cell_idx+1);\n",
    "      cell.set_text(\"render_image(image_src)\")\n",
    "      cell.execute();\n",
    "    });\n",
    "});"
   ]
  },
  {
   "cell_type": "code",
   "execution_count": 10,
   "metadata": {},
   "outputs": [
    {
     "data": {
      "text/html": [
       "<img id=\"viz-image\" width=\"300px\" src=\"data:image/png;base64,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\" />"
      ],
      "text/plain": [
       "<IPython.core.display.HTML object>"
      ]
     },
     "execution_count": 10,
     "metadata": {},
     "output_type": "execute_result"
    }
   ],
   "source": [
    "render_image(image_src)"
   ]
  }
 ],
 "metadata": {
  "kernelspec": {
   "display_name": "scispacy",
   "language": "python",
   "name": "scispacy"
  },
  "language_info": {
   "codemirror_mode": {
    "name": "ipython",
    "version": 3
   },
   "file_extension": ".py",
   "mimetype": "text/x-python",
   "name": "python",
   "nbconvert_exporter": "python",
   "pygments_lexer": "ipython3",
   "version": "3.6.10"
  }
 },
 "nbformat": 4,
 "nbformat_minor": 2
}
