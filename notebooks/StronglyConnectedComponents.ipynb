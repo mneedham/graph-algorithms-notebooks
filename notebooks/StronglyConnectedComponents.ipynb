{
 "cells": [
  {
   "cell_type": "markdown",
   "metadata": {},
   "source": [
    "# Strongly Connected Components\n",
    "The _Strongly Connected Components_ (SCC) algorithm finds sets of connected nodes in a directed graph where each node is reachable in both directions from any other node in the same set.\n",
    "It is often used early in a graph analysis process to help us get an idea of how our graph is structured.\n",
    "\n",
    "First we'll import the Neo4j driver and Pandas libraries:\n"
   ]
  },
  {
   "cell_type": "code",
   "execution_count": 1,
   "metadata": {},
   "outputs": [],
   "source": [
    "from neo4j import GraphDatabase\n",
    "import pandas as pd\n",
    "import os"
   ]
  },
  {
   "cell_type": "markdown",
   "metadata": {},
   "source": [
    "Next let's create an instance of the Neo4j driver which we'll use to execute our queries.\n"
   ]
  },
  {
   "cell_type": "code",
   "execution_count": 2,
   "metadata": {},
   "outputs": [],
   "source": [
    "host = os.environ.get(\"NEO4J_HOST\", \"bolt://localhost\") \n",
    "user = os.environ.get(\"NEO4J_USER\", \"neo4j\")\n",
    "password = os.environ.get(\"NEO4J_PASSWORD\", \"neo\")\n",
    "driver = GraphDatabase.driver(host, auth=(user, password))"
   ]
  },
  {
   "cell_type": "markdown",
   "metadata": {},
   "source": [
    "Now let's create a sample graph that we'll run the algorithm against.\n"
   ]
  },
  {
   "cell_type": "code",
   "execution_count": 3,
   "metadata": {},
   "outputs": [
    {
     "name": "stdout",
     "output_type": "stream",
     "text": [
      "Stats: {'labels-added': 6, 'relationships-created': 10, 'nodes-created': 6, 'properties-set': 6}\n"
     ]
    }
   ],
   "source": [
    "create_graph_query = '''\n",
    "MERGE (nAlice:User {id:'Alice'})\n",
    "MERGE (nBridget:User {id:'Bridget'})\n",
    "MERGE (nCharles:User {id:'Charles'})\n",
    "MERGE (nDoug:User {id:'Doug'})\n",
    "MERGE (nMark:User {id:'Mark'})\n",
    "MERGE (nMichael:User {id:'Michael'})\n",
    "\n",
    "MERGE (nAlice)-[:FOLLOW]->(nBridget)\n",
    "MERGE (nAlice)-[:FOLLOW]->(nCharles)\n",
    "MERGE (nMark)-[:FOLLOW]->(nDoug)\n",
    "MERGE (nMark)-[:FOLLOW]->(nMichael)\n",
    "MERGE (nBridget)-[:FOLLOW]->(nMichael)\n",
    "MERGE (nDoug)-[:FOLLOW]->(nMark)\n",
    "MERGE (nMichael)-[:FOLLOW]->(nAlice)\n",
    "MERGE (nAlice)-[:FOLLOW]->(nMichael)\n",
    "MERGE (nBridget)-[:FOLLOW]->(nAlice)\n",
    "MERGE (nMichael)-[:FOLLOW]->(nBridget);\n",
    "'''\n",
    "\n",
    "with driver.session() as session:\n",
    "    result = session.write_transaction(lambda tx: tx.run(create_graph_query))\n",
    "    print(\"Stats: \" + str(result.consume().metadata.get(\"stats\", {})))"
   ]
  },
  {
   "cell_type": "markdown",
   "metadata": {},
   "source": [
    "Finally we can run the algorithm by executing the following query:\n"
   ]
  },
  {
   "cell_type": "code",
   "execution_count": 4,
   "metadata": {},
   "outputs": [
    {
     "data": {
      "text/html": [
       "<div>\n",
       "<style scoped>\n",
       "    .dataframe tbody tr th:only-of-type {\n",
       "        vertical-align: middle;\n",
       "    }\n",
       "\n",
       "    .dataframe tbody tr th {\n",
       "        vertical-align: top;\n",
       "    }\n",
       "\n",
       "    .dataframe thead th {\n",
       "        text-align: right;\n",
       "    }\n",
       "</style>\n",
       "<table border=\"1\" class=\"dataframe\">\n",
       "  <thead>\n",
       "    <tr style=\"text-align: right;\">\n",
       "      <th></th>\n",
       "      <th>name</th>\n",
       "      <th>componentId</th>\n",
       "    </tr>\n",
       "  </thead>\n",
       "  <tbody>\n",
       "    <tr>\n",
       "      <th>0</th>\n",
       "      <td>Charles</td>\n",
       "      <td>0</td>\n",
       "    </tr>\n",
       "    <tr>\n",
       "      <th>1</th>\n",
       "      <td>Doug</td>\n",
       "      <td>1</td>\n",
       "    </tr>\n",
       "    <tr>\n",
       "      <th>2</th>\n",
       "      <td>Mark</td>\n",
       "      <td>1</td>\n",
       "    </tr>\n",
       "    <tr>\n",
       "      <th>3</th>\n",
       "      <td>Michael</td>\n",
       "      <td>3</td>\n",
       "    </tr>\n",
       "    <tr>\n",
       "      <th>4</th>\n",
       "      <td>Alice</td>\n",
       "      <td>3</td>\n",
       "    </tr>\n",
       "    <tr>\n",
       "      <th>5</th>\n",
       "      <td>Bridget</td>\n",
       "      <td>3</td>\n",
       "    </tr>\n",
       "  </tbody>\n",
       "</table>\n",
       "</div>"
      ],
      "text/plain": [
       "      name  componentId\n",
       "0  Charles            0\n",
       "1     Doug            1\n",
       "2     Mark            1\n",
       "3  Michael            3\n",
       "4    Alice            3\n",
       "5  Bridget            3"
      ]
     },
     "execution_count": 4,
     "metadata": {},
     "output_type": "execute_result"
    }
   ],
   "source": [
    "streaming_query = \"\"\"\n",
    "CALL gds.alpha.scc.stream({\n",
    "  nodeProjection:'User',\n",
    "  relationshipProjection:'FOLLOW'})\n",
    "YIELD nodeId, componentId\n",
    "RETURN gds.util.asNode(nodeId).id AS name, componentId\n",
    "\"\"\"\n",
    "\n",
    "with driver.session() as session:\n",
    "    result = session.run(streaming_query)        \n",
    "    df = pd.DataFrame([dict(r) for r in result])\n",
    "\n",
    "df"
   ]
  },
  {
   "cell_type": "markdown",
   "metadata": {},
   "source": [
    "We have 3 strongly connected components in our sample graph.\n",
    "The first and biggest component has members Alice, Bridget, and Michael, while the second component has Doug and Mark.\n",
    "Charles ends up in his own component becuase there isn't an outgoing relationship from that node to any of the others."
   ]
  },
  {
   "cell_type": "markdown",
   "metadata": {},
   "source": [
    "We can also call a version of the algorithm that will store the result as a property on a\n",
    "node. This is useful if we want to run future queries that use the result."
   ]
  },
  {
   "cell_type": "code",
   "execution_count": 5,
   "metadata": {},
   "outputs": [],
   "source": [
    "write_query = \"\"\"\n",
    "CALL gds.alpha.scc.write({\n",
    "  nodeProjection:'User',\n",
    "  relationshipProjection:'FOLLOW',\n",
    "  writeProperty:'partition'})\n",
    "YIELD createMillis, computeMillis, writeMillis, setCount, maxSetSize, minSetSize;\n",
    "\"\"\"\n",
    "\n",
    "with driver.session() as session:\n",
    "    session.write_transaction(lambda tx: tx.run(write_query))"
   ]
  },
  {
   "cell_type": "markdown",
   "metadata": {},
   "source": [
    "## Graph Visualisation\n",
    "\n",
    "Sometimes a picture can tell more than a table of results and this is often the case with graph algorithms. \n",
    "Let's see how to create a graph visualization using neovis.js.\n",
    "\n",
    "First we'll create a div into which we will generate the visualisation."
   ]
  },
  {
   "cell_type": "code",
   "execution_count": 30,
   "metadata": {},
   "outputs": [
    {
     "data": {
      "text/html": [
       "<style type=\"text/css\">                \n",
       ".output_wrapper, .output {\n",
       "    height:auto !important;\n",
       "    max-height:600px;\n",
       "}\n",
       ".output_scroll {\n",
       "    box-shadow:none !important;\n",
       "    webkit-box-shadow:none !important;\n",
       "}\n",
       "\n",
       "#viz {\n",
       "    width: 300px;\n",
       "    height: 350px;\n",
       "    font: 22pt arial;\n",
       "}\n",
       "</style>  \n",
       "<div id=\"viz\"></div>"
      ],
      "text/plain": [
       "<IPython.core.display.HTML object>"
      ]
     },
     "metadata": {},
     "output_type": "display_data"
    }
   ],
   "source": [
    "%%html\n",
    "<style type=\"text/css\">                \n",
    ".output_wrapper, .output {\n",
    "    height:auto !important;\n",
    "    max-height:600px;\n",
    "}\n",
    ".output_scroll {\n",
    "    box-shadow:none !important;\n",
    "    webkit-box-shadow:none !important;\n",
    "}\n",
    "\n",
    "#viz {\n",
    "    width: 300px;\n",
    "    height: 350px;\n",
    "    font: 22pt arial;\n",
    "}\n",
    "</style>  \n",
    "<div id=\"viz\"></div>"
   ]
  },
  {
   "cell_type": "markdown",
   "metadata": {},
   "source": [
    "Next we need to define the query that the visualization will be generated from, along with config \n",
    "that describes which properties will be used for node size, node colour, and relationship width. \n",
    "\n",
    "We'll then define a JavaScript variable that contains all our parameters."
   ]
  },
  {
   "cell_type": "code",
   "execution_count": 31,
   "metadata": {},
   "outputs": [
    {
     "data": {
      "application/javascript": [
       "window.jsonGraph={\"query\": \"MATCH (p1:User)-[r:FOLLOW]->(p2:User) RETURN *\", \"labels\": {\"User\": {\"caption\": \"id\", \"community\": \"partition\"}}, \"relationships\": {\"FOLLOW\": {\"thickness\": \"weight\", \"caption\": false}}, \"host\": \"bolt://localhost\", \"user\": \"neo4j\", \"password\": \"neo\"};"
      ],
      "text/plain": [
       "<IPython.core.display.Javascript object>"
      ]
     },
     "execution_count": 31,
     "metadata": {},
     "output_type": "execute_result"
    }
   ],
   "source": [
    "from IPython.core.display import Javascript\n",
    "import json\n",
    "from scripts.algo import viz_config, render_image\n",
    "\n",
    "config = viz_config(\"Strongly Connected Components\")\n",
    "query = config[\"query\"]\n",
    "labels_json = config[\"labels_json\"]\n",
    "relationships_json = config[\"relationships_json\"]\n",
    "\n",
    "json_graph = {\n",
    "    \"query\": query,\n",
    "    \"labels\": labels_json,\n",
    "    \"relationships\": relationships_json,\n",
    "    \"host\": host,\n",
    "    \"user\": user,\n",
    "    \"password\": password\n",
    "}\n",
    "\n",
    "Javascript(\"\"\"window.jsonGraph={};\"\"\".format(json.dumps(json_graph)))"
   ]
  },
  {
   "cell_type": "markdown",
   "metadata": {},
   "source": [
    "Now we're ready to call neovis.js and generate our graph visualisation. \n",
    "The following code will create an interactive graph into the div defined above.\n",
    "It will also extract an image representation of the graph and display that in the cell below."
   ]
  },
  {
   "cell_type": "code",
   "execution_count": 32,
   "metadata": {},
   "outputs": [
    {
     "data": {
      "application/javascript": [
       "var output_area = this;\n",
       "requirejs(['neovis.js'], function(NeoVis){    \n",
       "    var config = {\n",
       "      container_id: \"viz\",\n",
       "      server_url: window.jsonGraph.host,\n",
       "      server_user: window.jsonGraph.user,\n",
       "      server_password: window.jsonGraph.password,\n",
       "      labels: window.jsonGraph.labels,\n",
       "      relationships: window.jsonGraph.relationships,\n",
       "      initial_cypher: window.jsonGraph.query\n",
       "    };\n",
       "        \n",
       "    let viz = new NeoVis.default(config);\n",
       "    viz.render();\n",
       "    \n",
       "    viz.onVisualizationRendered(function(ctx) {\n",
       "      let imageSrc = ctx.canvas.toDataURL();\n",
       "      let kernel = IPython.notebook.kernel;\n",
       "      let command = \"image_src = '\" + imageSrc + \"'\";\n",
       "      kernel.execute(command);\n",
       "      \n",
       "      var cell_element = output_area.element.parents('.cell');\n",
       "      var cell_idx = Jupyter.notebook.get_cell_elements().index(cell_element);\n",
       "      var cell = Jupyter.notebook.get_cell(cell_idx+1);\n",
       "      cell.set_text(\"render_image(image_src)\")\n",
       "      cell.execute();\n",
       "    });\n",
       "});"
      ],
      "text/plain": [
       "<IPython.core.display.Javascript object>"
      ]
     },
     "metadata": {},
     "output_type": "display_data"
    }
   ],
   "source": [
    "%%javascript\n",
    "var output_area = this;\n",
    "requirejs(['neovis.js'], function(NeoVis){    \n",
    "    var config = {\n",
    "      container_id: \"viz\",\n",
    "      server_url: window.jsonGraph.host,\n",
    "      server_user: window.jsonGraph.user,\n",
    "      server_password: window.jsonGraph.password,\n",
    "      labels: window.jsonGraph.labels,\n",
    "      relationships: window.jsonGraph.relationships,\n",
    "      initial_cypher: window.jsonGraph.query\n",
    "    };\n",
    "        \n",
    "    let viz = new NeoVis.default(config);\n",
    "    viz.render();\n",
    "    \n",
    "    viz.onVisualizationRendered(function(ctx) {\n",
    "      let imageSrc = ctx.canvas.toDataURL();\n",
    "      let kernel = IPython.notebook.kernel;\n",
    "      let command = \"image_src = '\" + imageSrc + \"'\";\n",
    "      kernel.execute(command);\n",
    "      \n",
    "      var cell_element = output_area.element.parents('.cell');\n",
    "      var cell_idx = Jupyter.notebook.get_cell_elements().index(cell_element);\n",
    "      var cell = Jupyter.notebook.get_cell(cell_idx+1);\n",
    "      cell.set_text(\"render_image(image_src)\")\n",
    "      cell.execute();\n",
    "    });\n",
    "});"
   ]
  },
  {
   "cell_type": "code",
   "execution_count": 35,
   "metadata": {},
   "outputs": [
    {
     "data": {
      "text/html": [
       "<img id=\"viz-image\" width=\"300px\" src=\"data:image/png;base64,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\" />"
      ],
      "text/plain": [
       "<IPython.core.display.HTML object>"
      ]
     },
     "execution_count": 35,
     "metadata": {},
     "output_type": "execute_result"
    }
   ],
   "source": [
    "render_image(image_src)"
   ]
  }
 ],
 "metadata": {
  "kernelspec": {
   "display_name": "scispacy",
   "language": "python",
   "name": "scispacy"
  },
  "language_info": {
   "codemirror_mode": {
    "name": "ipython",
    "version": 3
   },
   "file_extension": ".py",
   "mimetype": "text/x-python",
   "name": "python",
   "nbconvert_exporter": "python",
   "pygments_lexer": "ipython3",
   "version": "3.6.10"
  }
 },
 "nbformat": 4,
 "nbformat_minor": 2
}
