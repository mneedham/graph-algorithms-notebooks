{
 "cells": [
  {
   "cell_type": "markdown",
   "metadata": {},
   "source": [
    "# All Pairs Shortest Path\n",
    "_All Pairs Shortest Path_ (APSP) calculates the shortest (weighted) path between all pairs of nodes.\n",
    "This algorithm has optimisations that make it quicker than calling the SSSP algorithm for every pair of nodes in the graph.\n",
    "\n",
    "First we'll import the Neo4j driver and Pandas libraries:\n"
   ]
  },
  {
   "cell_type": "code",
   "execution_count": 1,
   "metadata": {},
   "outputs": [],
   "source": [
    "from neo4j import GraphDatabase\n",
    "import pandas as pd\n",
    "import os"
   ]
  },
  {
   "cell_type": "markdown",
   "metadata": {},
   "source": [
    "Next let's create an instance of the Neo4j driver which we'll use to execute our queries.\n"
   ]
  },
  {
   "cell_type": "code",
   "execution_count": 2,
   "metadata": {},
   "outputs": [],
   "source": [
    "host = os.environ.get(\"NEO4J_HOST\", \"bolt://localhost\") \n",
    "user = os.environ.get(\"NEO4J_USER\", \"neo4j\")\n",
    "password = os.environ.get(\"NEO4J_PASSWORD\", \"neo\")\n",
    "driver = GraphDatabase.driver(host, auth=(user, password))"
   ]
  },
  {
   "cell_type": "markdown",
   "metadata": {},
   "source": [
    "Now let's create a sample graph that we'll run the algorithm against.\n"
   ]
  },
  {
   "cell_type": "code",
   "execution_count": 3,
   "metadata": {},
   "outputs": [
    {
     "name": "stdout",
     "output_type": "stream",
     "text": [
      "Stats: {'labels-added': 6, 'relationships-created': 11, 'nodes-created': 6, 'properties-set': 17}\n"
     ]
    }
   ],
   "source": [
    "create_graph_query = '''\n",
    "CREATE (a:Loc{name:'A'}), (b:Loc{name:'B'}), (c:Loc{name:'C'}), \n",
    "       (d:Loc{name:'D'}), (e:Loc{name:'E'}), (f:Loc{name:'F'}),\n",
    "       (a)-[:ROAD {cost:50}]->(b),\n",
    "       (a)-[:ROAD {cost:50}]->(c),\n",
    "       (a)-[:ROAD {cost:100}]->(d),\n",
    "       (a)-[:RAIL {cost:50}]->(d),\n",
    "       (b)-[:ROAD {cost:40}]->(d),\n",
    "       (c)-[:ROAD {cost:40}]->(d),\n",
    "       (c)-[:ROAD {cost:80}]->(e),\n",
    "       (d)-[:ROAD {cost:30}]->(e),\n",
    "       (d)-[:ROAD {cost:80}]->(f),\n",
    "       (e)-[:ROAD {cost:40}]->(f),\n",
    "       (e)-[:RAIL {cost:20}]->(f);\n",
    "'''\n",
    "\n",
    "with driver.session() as session:\n",
    "    result = session.write_transaction(lambda tx: tx.run(create_graph_query))\n",
    "    print(\"Stats: \" + str(result.consume().metadata.get(\"stats\", {})))"
   ]
  },
  {
   "cell_type": "markdown",
   "metadata": {},
   "source": [
    "Finally we can run the algorithm by executing the following query:\n"
   ]
  },
  {
   "cell_type": "code",
   "execution_count": 7,
   "metadata": {},
   "outputs": [
    {
     "data": {
      "text/html": [
       "<div>\n",
       "<style scoped>\n",
       "    .dataframe tbody tr th:only-of-type {\n",
       "        vertical-align: middle;\n",
       "    }\n",
       "\n",
       "    .dataframe tbody tr th {\n",
       "        vertical-align: top;\n",
       "    }\n",
       "\n",
       "    .dataframe thead th {\n",
       "        text-align: right;\n",
       "    }\n",
       "</style>\n",
       "<table border=\"1\" class=\"dataframe\">\n",
       "  <thead>\n",
       "    <tr style=\"text-align: right;\">\n",
       "      <th></th>\n",
       "      <th>source</th>\n",
       "      <th>target</th>\n",
       "      <th>distance</th>\n",
       "    </tr>\n",
       "  </thead>\n",
       "  <tbody>\n",
       "    <tr>\n",
       "      <th>0</th>\n",
       "      <td>A</td>\n",
       "      <td>F</td>\n",
       "      <td>100.0</td>\n",
       "    </tr>\n",
       "    <tr>\n",
       "      <th>1</th>\n",
       "      <td>C</td>\n",
       "      <td>F</td>\n",
       "      <td>90.0</td>\n",
       "    </tr>\n",
       "    <tr>\n",
       "      <th>2</th>\n",
       "      <td>B</td>\n",
       "      <td>F</td>\n",
       "      <td>90.0</td>\n",
       "    </tr>\n",
       "    <tr>\n",
       "      <th>3</th>\n",
       "      <td>A</td>\n",
       "      <td>E</td>\n",
       "      <td>80.0</td>\n",
       "    </tr>\n",
       "    <tr>\n",
       "      <th>4</th>\n",
       "      <td>B</td>\n",
       "      <td>E</td>\n",
       "      <td>70.0</td>\n",
       "    </tr>\n",
       "    <tr>\n",
       "      <th>5</th>\n",
       "      <td>C</td>\n",
       "      <td>E</td>\n",
       "      <td>70.0</td>\n",
       "    </tr>\n",
       "    <tr>\n",
       "      <th>6</th>\n",
       "      <td>A</td>\n",
       "      <td>D</td>\n",
       "      <td>50.0</td>\n",
       "    </tr>\n",
       "    <tr>\n",
       "      <th>7</th>\n",
       "      <td>A</td>\n",
       "      <td>B</td>\n",
       "      <td>50.0</td>\n",
       "    </tr>\n",
       "    <tr>\n",
       "      <th>8</th>\n",
       "      <td>D</td>\n",
       "      <td>F</td>\n",
       "      <td>50.0</td>\n",
       "    </tr>\n",
       "    <tr>\n",
       "      <th>9</th>\n",
       "      <td>A</td>\n",
       "      <td>C</td>\n",
       "      <td>50.0</td>\n",
       "    </tr>\n",
       "  </tbody>\n",
       "</table>\n",
       "</div>"
      ],
      "text/plain": [
       "  source target  distance\n",
       "0      A      F     100.0\n",
       "1      C      F      90.0\n",
       "2      B      F      90.0\n",
       "3      A      E      80.0\n",
       "4      B      E      70.0\n",
       "5      C      E      70.0\n",
       "6      A      D      50.0\n",
       "7      A      B      50.0\n",
       "8      D      F      50.0\n",
       "9      A      C      50.0"
      ]
     },
     "execution_count": 7,
     "metadata": {},
     "output_type": "execute_result"
    }
   ],
   "source": [
    "streaming_query = \"\"\"\n",
    "CALL gds.alpha.allShortestPaths.stream({\n",
    "    nodeProjection:'Loc',\n",
    "    relationshipProjection:{\n",
    "        ALL:{\n",
    "            type:'*',\n",
    "            orientation:'NATURAL',\n",
    "            properties: {cost:{property:'cost', defaultValue:1.0}}\n",
    "        }\n",
    "    },\n",
    "    relationshipWeightProperty:'cost'})\n",
    "YIELD sourceNodeId, targetNodeId, distance\n",
    "WITH sourceNodeId, targetNodeId, distance \n",
    "WHERE gds.util.isFinite(distance) = true\n",
    "\n",
    "MATCH (source:Loc) WHERE id(source) = sourceNodeId\n",
    "MATCH (target:Loc) WHERE id(target) = targetNodeId\n",
    "WITH source, target, distance WHERE source <> target\n",
    "\n",
    "RETURN source.name AS source, target.name AS target, distance\n",
    "ORDER BY distance DESC\n",
    "LIMIT 10\n",
    "\"\"\"\n",
    "\n",
    "with driver.session() as session:\n",
    "    result = session.run(streaming_query)\n",
    "    df = pd.DataFrame([dict(row) for row in result])\n",
    "\n",
    "df"
   ]
  },
  {
   "cell_type": "markdown",
   "metadata": {},
   "source": [
    "This query returned the top 10 pairs of nodes that are the furthest away from each other.\n",
    "Node \"F\" seem to be quite distant from the others."
   ]
  },
  {
   "cell_type": "code",
   "execution_count": null,
   "metadata": {},
   "outputs": [],
   "source": []
  }
 ],
 "metadata": {
  "kernelspec": {
   "display_name": "scispacy",
   "language": "python",
   "name": "scispacy"
  },
  "language_info": {
   "codemirror_mode": {
    "name": "ipython",
    "version": 3
   },
   "file_extension": ".py",
   "mimetype": "text/x-python",
   "name": "python",
   "nbconvert_exporter": "python",
   "pygments_lexer": "ipython3",
   "version": "3.6.10"
  }
 },
 "nbformat": 4,
 "nbformat_minor": 2
}
